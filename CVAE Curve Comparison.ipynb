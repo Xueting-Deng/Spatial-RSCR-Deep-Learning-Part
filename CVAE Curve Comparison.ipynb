{
 "cells": [
  {
   "cell_type": "code",
   "execution_count": 1,
   "id": "fa000a9b",
   "metadata": {},
   "outputs": [],
   "source": [
    "import numpy as np \n",
    "\n",
    "import random\n",
    "import matplotlib.pyplot as plt\n",
    "from mpl_toolkits.mplot3d import Axes3D\n",
    "import time\n",
    "from scipy.optimize import root\n",
    "import math\n",
    "import copy\n",
    "from tqdm.notebook import tqdm\n",
    "\n",
    "from scipy.interpolate import splprep, splev\n",
    "from scipy.spatial.distance import directed_hausdorff"
   ]
  },
  {
   "cell_type": "code",
   "execution_count": 2,
   "id": "a2b3bd10",
   "metadata": {},
   "outputs": [],
   "source": [
    "%matplotlib notebook\n",
    "%run \"C:\\SBU-3\\Jupyter-Research\\RSCR\\Functions.ipynb\"\n",
    "%run  \"C:\\SBU-3\\Jupyter-Research\\RSCR\\Plot_Compare_Prediction_Functions.ipynb\""
   ]
  },
  {
   "cell_type": "code",
   "execution_count": 3,
   "id": "bb9d52ad",
   "metadata": {},
   "outputs": [],
   "source": [
    "data = np.load('C:\\SBU-3\\Jupyter-Research\\RSCR\\Saved Data\\RSCR Prediction Journal\\\\cvae_beta10_pre_test.npy')"
   ]
  },
  {
   "cell_type": "code",
   "execution_count": 4,
   "id": "a98d117d",
   "metadata": {},
   "outputs": [
    {
     "data": {
      "text/plain": [
       "(30000, 316)"
      ]
     },
     "execution_count": 4,
     "metadata": {},
     "output_type": "execute_result"
    }
   ],
   "source": [
    "data.shape"
   ]
  },
  {
   "cell_type": "code",
   "execution_count": 5,
   "id": "014a5aa7",
   "metadata": {},
   "outputs": [],
   "source": [
    "path = data[:,0:300]\n",
    "mec = data[:,300:]"
   ]
  },
  {
   "cell_type": "code",
   "execution_count": 6,
   "id": "7274b231",
   "metadata": {},
   "outputs": [
    {
     "data": {
      "text/plain": [
       "(30000, 300)"
      ]
     },
     "execution_count": 6,
     "metadata": {},
     "output_type": "execute_result"
    }
   ],
   "source": [
    "path.shape"
   ]
  },
  {
   "cell_type": "code",
   "execution_count": 7,
   "id": "6a11a189",
   "metadata": {},
   "outputs": [
    {
     "data": {
      "text/plain": [
       "(30000, 16)"
      ]
     },
     "execution_count": 7,
     "metadata": {},
     "output_type": "execute_result"
    }
   ],
   "source": [
    "mec.shape"
   ]
  },
  {
   "cell_type": "markdown",
   "id": "1628ce22",
   "metadata": {},
   "source": [
    "path = path.reshape((100,3,100))\n",
    "mec = mec.reshape((100,16))"
   ]
  },
  {
   "cell_type": "code",
   "execution_count": null,
   "id": "1cfa5e3c",
   "metadata": {},
   "outputs": [],
   "source": [
    "path = path.reshape((1000,30,3, 100))\n",
    "mec = mec.reshape((1000,30,16))"
   ]
  },
  {
   "cell_type": "code",
   "execution_count": null,
   "id": "62da74ae",
   "metadata": {},
   "outputs": [],
   "source": [
    "path.shape"
   ]
  },
  {
   "cell_type": "code",
   "execution_count": null,
   "id": "62b08a40",
   "metadata": {},
   "outputs": [],
   "source": [
    "len(path)"
   ]
  },
  {
   "cell_type": "code",
   "execution_count": null,
   "id": "9d69a448",
   "metadata": {},
   "outputs": [],
   "source": [
    "HAU = []\n",
    "Pre_path = []\n",
    "Tru_path = []\n",
    "for j in tqdm(range(len(path))):\n",
    "    hau_dis = []\n",
    "    pre_path = []\n",
    "    tru_path = []\n",
    "    path_t = path[j]\n",
    "    mec_t = mec[j]\n",
    "    for i in range(len(path_t)):\n",
    "        try:\n",
    "            predict_mec = Complete_Mec_16(mec_t[i])\n",
    "            joint3_predict, curve_predict = Open_Curve_RSCR(predict_mec)\n",
    "            if len(joint3_predict)<358:\n",
    "                continue\n",
    "\n",
    "            _, predict_full = Frame_Predict_Mec(predict_mec)\n",
    "            frame0 = np.array([[1,0,0],[0,1,0],[0,0,1]])\n",
    "\n",
    "            coupler_relative_pos_predict = Coupler_in_Rigidbody(predict_full, frame0)\n",
    "\n",
    "            len2 = len(curve_predict)\n",
    "            coupler_path_predict = np.zeros((len2,3))\n",
    "            for j in range(len2):\n",
    "                coupler_path_predict[j] = Coupler_Path(predict_full, frame0, curve_predict[j], joint3_predict[j], coupler_relative_pos_predict)\n",
    "\n",
    "            predict_bspline = Path_Interpolate(coupler_path_predict, num_pts=100)\n",
    "            predict_normalized, _, _, _ = normalizePath(predict_bspline)\n",
    "\n",
    "            hausdorff = directed_hausdorff(path_t[i].T, predict_normalized.T)[0]\n",
    "            hau_dis.append(hausdorff)\n",
    "            pre_path.append(predict_normalized)\n",
    "            tru_path.append(path_t[i])\n",
    "        except:\n",
    "            pass\n",
    "    \n",
    "    if not hau_dis:\n",
    "        continue\n",
    "    hau = np.min(hau_dis)\n",
    "    inx_hau = np.argmin(hau_dis)\n",
    "    pre = pre_path[inx_hau]\n",
    "    tru = tru_path[inx_hau]\n",
    "    \n",
    "    HAU.append(hau)\n",
    "    Pre_path.append(pre)\n",
    "    Tru_path.append(tru)"
   ]
  },
  {
   "cell_type": "code",
   "execution_count": null,
   "id": "26b7dd70",
   "metadata": {},
   "outputs": [],
   "source": [
    "HAU = np.array(HAU)\n",
    "Pre_path = np.array(Pre_path)\n",
    "Tru_path = np.array(Tru_path)\n",
    "\n",
    "good_curve = 0\n",
    "for dis in HAU:\n",
    "    if dis < 0.027:\n",
    "        good_curve += 1\n",
    "        \n",
    "print('valid curve:', len(HAU))\n",
    "print('good curve:', good_curve)\n",
    "print('mean:',np.mean(HAU))\n",
    "print('median:', np.median(HAU))"
   ]
  },
  {
   "cell_type": "code",
   "execution_count": null,
   "id": "51c8e0d3",
   "metadata": {},
   "outputs": [],
   "source": [
    "np.var(HAU)"
   ]
  },
  {
   "cell_type": "code",
   "execution_count": null,
   "id": "b1b54617",
   "metadata": {},
   "outputs": [],
   "source": [
    "np.save('cvae_hau.npy', HAU)"
   ]
  },
  {
   "cell_type": "code",
   "execution_count": null,
   "id": "a20f246c",
   "metadata": {},
   "outputs": [],
   "source": [
    "print(np.min(hau_dis), np.argmin(hau_dis))"
   ]
  },
  {
   "cell_type": "code",
   "execution_count": null,
   "id": "a6e97819",
   "metadata": {},
   "outputs": [],
   "source": [
    "print(np.max(hau_dis), np.argmax(hau_dis))"
   ]
  },
  {
   "cell_type": "code",
   "execution_count": null,
   "id": "27dad59e",
   "metadata": {},
   "outputs": [],
   "source": []
  },
  {
   "cell_type": "code",
   "execution_count": null,
   "id": "3e49f0e0",
   "metadata": {},
   "outputs": [],
   "source": [
    "fig= plt.figure(figsize=(10, 10))\n",
    "rand = random.randint(0,len(HAU)-1)\n",
    "print(HAU[rand])\n",
    "ax = plt.subplot(111, projection='3d')\n",
    "plotPath(Tru_path[1],color = 'red', linestyle = 'point2') #true\n",
    "plotPath(Pre_path[1],color='green',linestyle='point2')\n",
    "ax.set_xlim(-0.2,0.2)\n",
    "ax.set_ylim(-0.2,0.2)\n",
    "ax.set_zlim(-0.2,0.2)\n",
    "ax.set_xlabel('X-axis')\n",
    "ax.set_ylabel('Y-axis')\n",
    "ax.set_zlabel('Z-axis')"
   ]
  },
  {
   "cell_type": "code",
   "execution_count": null,
   "id": "729d6a19",
   "metadata": {},
   "outputs": [],
   "source": [
    "Tru_path = np.load('C:\\SBU-3\\Jupyter-Research\\RSCR\\Saved Data\\RSCR Prediction Journal\\\\beta10_tru.npy')\n",
    "Pre_path = np.load('C:\\SBU-3\\Jupyter-Research\\RSCR\\Saved Data\\RSCR Prediction Journal\\\\beta10_pre.npy')"
   ]
  },
  {
   "cell_type": "code",
   "execution_count": null,
   "id": "b82b7ee7",
   "metadata": {},
   "outputs": [],
   "source": [
    "fig= plt.figure(figsize=(10, 10))\n",
    "rand = np.random.randint(len(Tru_path),size=16)\n",
    "print(rand)\n",
    "for i in range(16):\n",
    "    ax = plt.subplot(4,4,i+1, projection='3d')\n",
    "    plotPath(Tru_path[rand[i]],color = 'red', linestyle = 'point2') #true\n",
    "    plotPath(Pre_path[rand[i]],color='green',linestyle='point2')\n",
    "    ax.set_xlim(-0.2,0.2)\n",
    "    ax.set_ylim(-0.2,0.2)\n",
    "    ax.set_zlim(-0.2,0.2)\n",
    "    ax.set_xlabel('X-axis')\n",
    "    ax.set_ylabel('Y-axis')\n",
    "    ax.set_zlabel('Z-axis')"
   ]
  },
  {
   "cell_type": "code",
   "execution_count": null,
   "id": "b9478d19",
   "metadata": {},
   "outputs": [],
   "source": [
    "rand"
   ]
  },
  {
   "cell_type": "code",
   "execution_count": null,
   "id": "7d757e11",
   "metadata": {},
   "outputs": [],
   "source": []
  }
 ],
 "metadata": {
  "kernelspec": {
   "display_name": "general",
   "language": "python",
   "name": "general"
  },
  "language_info": {
   "codemirror_mode": {
    "name": "ipython",
    "version": 3
   },
   "file_extension": ".py",
   "mimetype": "text/x-python",
   "name": "python",
   "nbconvert_exporter": "python",
   "pygments_lexer": "ipython3",
   "version": "3.7.16"
  }
 },
 "nbformat": 4,
 "nbformat_minor": 5
}
