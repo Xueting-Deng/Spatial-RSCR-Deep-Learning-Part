{
 "cells": [
  {
   "cell_type": "code",
   "execution_count": 1,
   "id": "61faadf1",
   "metadata": {},
   "outputs": [],
   "source": [
    "import numpy as np \n",
    "import torch\n",
    "import torch.nn as nn\n",
    "from torch.utils.data import Dataset, DataLoader, TensorDataset, random_split\n",
    "import torch.optim as optimizer\n",
    "from collections import OrderedDict\n",
    "from torch.optim.lr_scheduler import ReduceLROnPlateau\n",
    "\n",
    "import random\n",
    "import time\n",
    "import math\n",
    "import os\n",
    "import copy"
   ]
  },
  {
   "cell_type": "code",
   "execution_count": 2,
   "id": "01e88b4f",
   "metadata": {},
   "outputs": [],
   "source": [
    "%run \"C:\\SBU-3\\Jupyter-Research\\RSCR\\\\2 Machine Learning\\\\4 CVAE Anar\\\\CVAE Model.ipynb\""
   ]
  },
  {
   "cell_type": "code",
   "execution_count": null,
   "id": "b19868c4",
   "metadata": {},
   "outputs": [],
   "source": [
    "class LatentDataset(Dataset):\n",
    "    def __init__(self, latent_dim=300):\n",
    "        self.latent_dim = latent_dim\n",
    "        paths = np.load('C:\\SBU-3\\Jupyter-Research\\RSCR\\Saved Data\\\\TEST\\\\path_test2.npy')\n",
    "        mechs = np.load('C:\\SBU-3\\Jupyter-Research\\RSCR\\Saved Data\\\\TEST\\\\mec_test2.npy')\n",
    "        paths = paths.reshape((paths.shape[0], paths.shape[1]*paths.shape[2]))\n",
    "        \n",
    "        if mechs.shape[1] == 16:\n",
    "            mechs = mechs.reshape((mechs.shape[0], mechs.shape[1]))\n",
    "        else:\n",
    "            mechs = mechs.reshape((mechs.shape[0], mechs.shape[1]*mechs.shape[2]))\n",
    "            \n",
    "        self.data = np.hstack((paths, mechs))\n",
    "        #random.shuffle(self.data)\n",
    "\n",
    "    def __len__(self):\n",
    "        return len(self.data)\n",
    "\n",
    "    def __getitem__(self, idx):\n",
    "        #path_mech = {'data':self.data[idx]}\n",
    "        #return path_mech\n",
    "        path_mech = self.data[idx]\n",
    "        return path_mech[:self.latent_dim].astype(np.float32), path_mech[self.latent_dim:].astype(np.float32)\n"
   ]
  },
  {
   "cell_type": "code",
   "execution_count": 3,
   "id": "52f94d68",
   "metadata": {},
   "outputs": [
    {
     "data": {
      "text/plain": [
       "<All keys matched successfully>"
      ]
     },
     "execution_count": 3,
     "metadata": {},
     "output_type": "execute_result"
    }
   ],
   "source": [
    "mechanism_size = 16\n",
    "curve_size = 300\n",
    "latent_dim = 2048\n",
    "\n",
    "\n",
    "#model = cVAE\n",
    "model = cVAE(mechanism_size=16, latent_dim=2048, curve_size=300)\n",
    "loaded_state = torch.load('C:\\SBU-3\\Jupyter-Research\\RSCR\\Saved Data\\RSCR Model Journal\\cvae_beta10',map_location='cuda:0')\n",
    "model.load_state_dict(loaded_state)"
   ]
  },
  {
   "cell_type": "code",
   "execution_count": 4,
   "id": "43a3607d",
   "metadata": {},
   "outputs": [],
   "source": [
    "device = torch.device(\"cuda\" if torch.cuda.is_available() else \"cpu\")\n",
    "model = model.to(device)"
   ]
  },
  {
   "cell_type": "markdown",
   "id": "f8584711",
   "metadata": {},
   "source": [
    "path = torch.from_numpy(np.load('elbow_norm.npy')).unsqueeze(0)\n",
    "curve = path.reshape((path.shape[0], path.shape[1]*path.shape[2])).float()\n",
    "path = path.squeeze(0)\n",
    "prediction = []\n",
    "\n",
    "with torch.no_grad():\n",
    "    curve1 = curve.repeat(100, 1).to(device)\n",
    "    curve = model.encoder.curve_embedding(curve1)\n",
    "    z = torch.randn([100, latent_dim]).to(device)\n",
    "    mec_hat = model.decoder(z, curve)\n",
    "    \n",
    "    mec_hat = mec_hat.cpu().detach()\n",
    "    curve1 = curve1.cpu().detach()\n",
    "    out = np.hstack((curve1,mec_hat))\n",
    "    for ele in out:\n",
    "        new = ele\n",
    "        prediction.append(new)\n"
   ]
  },
  {
   "cell_type": "markdown",
   "id": "63da00be",
   "metadata": {},
   "source": [
    "np.save('C:\\SBU-3\\Jupyter-Research\\RSCR\\Saved Data\\RSCR Prediction Journal\\elbow.npy', prediction)"
   ]
  },
  {
   "cell_type": "code",
   "execution_count": null,
   "id": "219ae6d4",
   "metadata": {},
   "outputs": [],
   "source": [
    "dataset = LatentDataset()\n",
    "data_loader = DataLoader(dataset, batch_size=1) "
   ]
  },
  {
   "cell_type": "code",
   "execution_count": null,
   "id": "a972d2f6",
   "metadata": {},
   "outputs": [],
   "source": [
    "model.eval()\n",
    "prediction = []\n",
    "with torch.no_grad():\n",
    "    for batch_inc, data in enumerate(data_loader):\n",
    "        curve = data[0]\n",
    "        mec = data[1]\n",
    "        \n",
    "        curve2 = curve.repeat(30,1).to(device)\n",
    "        curve3 = model.encoder.curve_embedding(curve2)\n",
    "        z = torch.randn([30, latent_dim]).to(device)\n",
    "        mec_hat = model.decoder(z, curve3)\n",
    "        \n",
    "        mec_hat = mec_hat.cpu().detach()\n",
    "        curve2 = curve2.cpu().detach()\n",
    "        out = np.hstack((curve2,mec_hat))\n",
    "        for ele in out:\n",
    "            new = ele\n",
    "            prediction.append(new)\n",
    "    #predict_mecs = predict_mecs.cpu().detach().numpy().squeeze()"
   ]
  },
  {
   "cell_type": "code",
   "execution_count": null,
   "id": "7fb799f8",
   "metadata": {},
   "outputs": [],
   "source": [
    "prediction=np.array(prediction)"
   ]
  },
  {
   "cell_type": "code",
   "execution_count": null,
   "id": "ea2f95a9",
   "metadata": {},
   "outputs": [],
   "source": [
    "len(prediction[0])"
   ]
  },
  {
   "cell_type": "code",
   "execution_count": null,
   "id": "822f72d0",
   "metadata": {},
   "outputs": [],
   "source": [
    "len(prediction)"
   ]
  },
  {
   "cell_type": "code",
   "execution_count": null,
   "id": "d0c5082a",
   "metadata": {},
   "outputs": [],
   "source": [
    "np.save('C:\\SBU-3\\Jupyter-Research\\RSCR\\Saved Data\\RSCR Prediction Journal\\cvae_beta25_pre_test', prediction)"
   ]
  },
  {
   "cell_type": "code",
   "execution_count": null,
   "id": "621f3b33",
   "metadata": {},
   "outputs": [],
   "source": []
  }
 ],
 "metadata": {
  "kernelspec": {
   "display_name": "pytorch1.3.1",
   "language": "python",
   "name": "pytorch1.3.1"
  },
  "language_info": {
   "codemirror_mode": {
    "name": "ipython",
    "version": 3
   },
   "file_extension": ".py",
   "mimetype": "text/x-python",
   "name": "python",
   "nbconvert_exporter": "python",
   "pygments_lexer": "ipython3",
   "version": "3.7.16"
  }
 },
 "nbformat": 4,
 "nbformat_minor": 5
}
